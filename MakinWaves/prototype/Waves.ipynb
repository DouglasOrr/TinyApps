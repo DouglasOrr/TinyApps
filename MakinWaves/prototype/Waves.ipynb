{
 "cells": [
  {
   "cell_type": "code",
   "execution_count": null,
   "metadata": {},
   "outputs": [],
   "source": [
    "import PIL.Image\n",
    "import numpy as np\n",
    "import matplotlib.pyplot as plt\n",
    "import matplotlib\n",
    "import matplotlib.animation\n",
    "matplotlib.rcParams['animation.html'] = 'html5'"
   ]
  },
  {
   "cell_type": "code",
   "execution_count": null,
   "metadata": {},
   "outputs": [],
   "source": [
    "def load_mask(path):\n",
    "    with PIL.Image.open(path) as image:\n",
    "        pixels = np.array(image)\n",
    "        assert pixels.ndim == 2\n",
    "        return pixels < 128\n",
    "\n",
    "mask = load_mask('../app/src/main/assets/two_square128.png')\n",
    "# mask = load_mask('../app/src/main/assets/two_square128.png')\n",
    "# plt.imshow(~mask, cmap='gray')\n",
    "# plt.axis('off')"
   ]
  },
  {
   "cell_type": "code",
   "execution_count": null,
   "metadata": {},
   "outputs": [],
   "source": [
    "def wave_image(x, mask):\n",
    "    x = np.clip(x, -1, 1)\n",
    "#     if not ((-1 <= x) & (x <= 1)).all():\n",
    "#         raise ValueError('State out-of-bounds - should be (-1, 1)-bounded')\n",
    "    shade = .5 * (1 + x)\n",
    "    return np.where(mask[..., np.newaxis], np.array([[[1., 0, 0]]]), np.tile(shade[..., np.newaxis], (1, 1, 3)))\n",
    "\n",
    "def simulate(x0, dx0, mask):\n",
    "    steps = 100\n",
    "    inner_steps = 100\n",
    "    dt = .01\n",
    "    tension = 10\n",
    "    damping = 0.0001\n",
    "    x, dx = x0.copy(), dx0.copy()\n",
    "    for _ in range(steps):\n",
    "        for _ in range(inner_steps):\n",
    "            xpad = np.pad(x, 1, mode='edge')\n",
    "            x += .5 * dt * dx\n",
    "            x *= ~mask\n",
    "            f = .25 * (xpad[:-2, 1:-1] + xpad[2:, 1:-1] + xpad[1:-1, :-2] + xpad[1:-1, 2:]) - x\n",
    "            dx *= (1 - damping)\n",
    "            dx += f * tension * dt\n",
    "            x += .5 * dt * dx\n",
    "            x *= ~mask\n",
    "#         x = np.clip(x, -1, 1)\n",
    "        yield x, dx\n",
    "\n",
    "\n",
    "# Initial conditions\n",
    "x0, dx0 = np.zeros(mask.shape), np.zeros(mask.shape)\n",
    "d = mask.shape[1]//4\n",
    "b = 4\n",
    "x0[d-b:d+b, d-b:d+b] = 1\n",
    "x0[3*d-b:3*d+b, 3*d-b:3*d+b] = -1\n",
    "\n",
    "# Simulation\n",
    "states = simulate(x0, dx0, mask)\n",
    "\n",
    "# Rendering\n",
    "fig = plt.figure(figsize=(8, 8))\n",
    "im = plt.imshow(wave_image(x0, mask), animated=True)\n",
    "plt.axis('off')\n",
    "plt.close()\n",
    "def updatefig(state):\n",
    "    x, dx = state\n",
    "    im.set_array(wave_image(x, mask))\n",
    "    return im,\n",
    "matplotlib.animation.FuncAnimation(fig, updatefig, states, interval=100, save_count=100, blit=True)"
   ]
  }
 ],
 "metadata": {
  "kernelspec": {
   "display_name": "Python 3",
   "language": "python",
   "name": "python3"
  },
  "language_info": {
   "codemirror_mode": {
    "name": "ipython",
    "version": 3
   },
   "file_extension": ".py",
   "mimetype": "text/x-python",
   "name": "python",
   "nbconvert_exporter": "python",
   "pygments_lexer": "ipython3",
   "version": "3.7.6"
  }
 },
 "nbformat": 4,
 "nbformat_minor": 4
}
